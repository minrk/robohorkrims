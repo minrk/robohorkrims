{
 "cells": [
  {
   "cell_type": "markdown",
   "id": "20cf7eaa-12ab-4f15-b7f9-3a50bb6c0f78",
   "metadata": {},
   "source": [
    "# Generating tweets with a markov chain\n",
    "\n",
    "Using:\n",
    "\n",
    "- spacy for tokenization\n",
    "- markovify for markov chain\n",
    "\n",
    "Characteristics:\n",
    "\n",
    "- Markov chain means all words come from the corpus,\n",
    "  and I _believe_ at least all 2-grams (consecutive pairs of words)\n",
    "  all occur in the text.\n",
    "- This also means variety is severely limited by the corpus."
   ]
  },
  {
   "cell_type": "code",
   "execution_count": 64,
   "id": "e2764ec6-d1b5-4d85-8796-d9cd345dc79e",
   "metadata": {},
   "outputs": [],
   "source": [
    "from itertools import chain\n",
    "\n",
    "\n",
    "import markovify\n",
    "import re\n",
    "import spacy\n",
    "\n",
    "with open(\"corpus.txt\") as f:\n",
    "    text = f.read()\n",
    "\n",
    "nlp = spacy.load(\"en_core_web_sm\")"
   ]
  },
  {
   "cell_type": "code",
   "execution_count": 65,
   "id": "4624c1e3-6fb5-4d73-85a1-816b426ef4bc",
   "metadata": {},
   "outputs": [],
   "source": [
    "START = \"HORKRIMS \"\n",
    "END = \"ENDHORKRIMS\\n\\n\""
   ]
  },
  {
   "cell_type": "code",
   "execution_count": 103,
   "id": "12591f09-42aa-49ce-963b-d3cd67c6d22c",
   "metadata": {},
   "outputs": [],
   "source": [
    "class TweetText(markovify.Text):\n",
    "    def word_split(self, sentence):\n",
    "        return list(\n",
    "            chain.from_iterable(\n",
    "                (word.orth_,)\n",
    "                for word in nlp(sentence)\n",
    "                # (word.orth_, word.whitespace_) for word in nlp(sentence)\n",
    "            )\n",
    "        )\n",
    "\n",
    "    def word_join(self, words):\n",
    "        chunks = []\n",
    "        for i, word in enumerate(words):\n",
    "            if not (\n",
    "                i == 0\n",
    "                or (word != \"'\" and \"'\" in word)\n",
    "                or word == \"na\"\n",
    "                or (len(word) == 1 and word in \".,:;!?\")\n",
    "            ):\n",
    "                # avoid injecting space before punctuation or 's fragments\n",
    "                chunks.append(\" \")\n",
    "            chunks.append(word)\n",
    "        return \"\".join(chunks)\n",
    "\n",
    "    def sentence_split(self, text):\n",
    "        return [s.replace(START, \"\") for s in text.split(END)]\n",
    "\n",
    "\n",
    "models = {size: TweetText(text, state_size=size) for size in range(1, 5)}"
   ]
  },
  {
   "cell_type": "code",
   "execution_count": 105,
   "id": "0b6a4acd-3e70-4c69-a3f2-15b7255f95ca",
   "metadata": {},
   "outputs": [
    {
     "name": "stdout",
     "output_type": "stream",
     "text": [
      "1 it's like a nectarine when one that * introduction to feet.\n",
      "2 it is all the grablets that it expressed to touch it all day and nothing will happen!\n",
      "3 it looks like a tentacle\n",
      "4 Maybe this is the only thing that makes it weird\n",
      "\n",
      "1 Get all house. We exist in places his bulk is minimized\n",
      "2 this bizarre artifact you have invented, you can live inside\n",
      "3 Give us something that isn't a lizard in dough, it's a combination of a centipede and * hell *\n",
      "4 None\n",
      "\n",
      "1 it could save more than Lolth is very little effort of yourself extruded\n",
      "2 all the snakes come out of them are now a tiny amethyst flower bloom. But it is * magnificent *\n",
      "3 Imagine if you will, a * dark * job orientation video.\n",
      "4 we do have a decorative hanging cat — it's like an * even lazier * cat\n",
      "\n",
      "1 You hear the two *, gaze.\n",
      "2 imagine if you will — obviously there's a piece of demon fruit\n",
      "3 It's back, like a grub — like a monomolecular cheese slicer\n",
      "4 It's like a bat, but it's not as bad as you expect!\n",
      "\n",
      "1 Whatever that you're talking about it's trying to lose a dark PEZ dispenser\n",
      "2 It's like the Reefer Madness of the establishment.\n",
      "3 It's like a cat — it's all house.\n",
      "4 he places his craw - his moist craw - at the base of this thing, warmed by its close proximity to a weasel\n",
      "\n"
     ]
    }
   ],
   "source": [
    "for i in range(5):\n",
    "    for size, model in models.items():\n",
    "        print(size, model.make_short_sentence(280, max_overlap_ratio=0.7))\n",
    "    print(\"\")"
   ]
  },
  {
   "cell_type": "code",
   "execution_count": 38,
   "id": "d10bbfcd-3a3e-4dbe-ac45-f2e448638fbb",
   "metadata": {},
   "outputs": [
    {
     "data": {
      "text/plain": [
       "\u001b[0;31mSignature:\u001b[0m \u001b[0mmodel\u001b[0m\u001b[0;34m.\u001b[0m\u001b[0mmake_sentence_with_start\u001b[0m\u001b[0;34m(\u001b[0m\u001b[0mbeginning\u001b[0m\u001b[0;34m,\u001b[0m \u001b[0mstrict\u001b[0m\u001b[0;34m=\u001b[0m\u001b[0;32mTrue\u001b[0m\u001b[0;34m,\u001b[0m \u001b[0;34m**\u001b[0m\u001b[0mkwargs\u001b[0m\u001b[0;34m)\u001b[0m\u001b[0;34m\u001b[0m\u001b[0;34m\u001b[0m\u001b[0m\n",
       "\u001b[0;31mSource:\u001b[0m   \n",
       "    \u001b[0;32mdef\u001b[0m \u001b[0mmake_sentence_with_start\u001b[0m\u001b[0;34m(\u001b[0m\u001b[0mself\u001b[0m\u001b[0;34m,\u001b[0m \u001b[0mbeginning\u001b[0m\u001b[0;34m,\u001b[0m \u001b[0mstrict\u001b[0m\u001b[0;34m=\u001b[0m\u001b[0;32mTrue\u001b[0m\u001b[0;34m,\u001b[0m \u001b[0;34m**\u001b[0m\u001b[0mkwargs\u001b[0m\u001b[0;34m)\u001b[0m\u001b[0;34m:\u001b[0m\u001b[0;34m\u001b[0m\n",
       "\u001b[0;34m\u001b[0m        \u001b[0;34m\"\"\"\u001b[0m\n",
       "\u001b[0;34m        Tries making a sentence that begins with `beginning` string,\u001b[0m\n",
       "\u001b[0;34m        which should be a string of one to `self.state` words known\u001b[0m\n",
       "\u001b[0;34m        to exist in the corpus.\u001b[0m\n",
       "\u001b[0;34m\u001b[0m\n",
       "\u001b[0;34m        If strict == True, then markovify will draw its initial inspiration\u001b[0m\n",
       "\u001b[0;34m        only from sentences that start with the specified word/phrase.\u001b[0m\n",
       "\u001b[0;34m\u001b[0m\n",
       "\u001b[0;34m        If strict == False, then markovify will draw its initial inspiration\u001b[0m\n",
       "\u001b[0;34m        from any sentence containing the specified word/phrase.\u001b[0m\n",
       "\u001b[0;34m\u001b[0m\n",
       "\u001b[0;34m        **kwargs are passed to `self.make_sentence`\u001b[0m\n",
       "\u001b[0;34m        \"\"\"\u001b[0m\u001b[0;34m\u001b[0m\n",
       "\u001b[0;34m\u001b[0m        \u001b[0msplit\u001b[0m \u001b[0;34m=\u001b[0m \u001b[0mtuple\u001b[0m\u001b[0;34m(\u001b[0m\u001b[0mself\u001b[0m\u001b[0;34m.\u001b[0m\u001b[0mword_split\u001b[0m\u001b[0;34m(\u001b[0m\u001b[0mbeginning\u001b[0m\u001b[0;34m)\u001b[0m\u001b[0;34m)\u001b[0m\u001b[0;34m\u001b[0m\n",
       "\u001b[0;34m\u001b[0m        \u001b[0mword_count\u001b[0m \u001b[0;34m=\u001b[0m \u001b[0mlen\u001b[0m\u001b[0;34m(\u001b[0m\u001b[0msplit\u001b[0m\u001b[0;34m)\u001b[0m\u001b[0;34m\u001b[0m\n",
       "\u001b[0;34m\u001b[0m\u001b[0;34m\u001b[0m\n",
       "\u001b[0;34m\u001b[0m        \u001b[0;32mif\u001b[0m \u001b[0mword_count\u001b[0m \u001b[0;34m==\u001b[0m \u001b[0mself\u001b[0m\u001b[0;34m.\u001b[0m\u001b[0mstate_size\u001b[0m\u001b[0;34m:\u001b[0m\u001b[0;34m\u001b[0m\n",
       "\u001b[0;34m\u001b[0m            \u001b[0minit_states\u001b[0m \u001b[0;34m=\u001b[0m \u001b[0;34m[\u001b[0m\u001b[0msplit\u001b[0m\u001b[0;34m]\u001b[0m\u001b[0;34m\u001b[0m\n",
       "\u001b[0;34m\u001b[0m\u001b[0;34m\u001b[0m\n",
       "\u001b[0;34m\u001b[0m        \u001b[0;32melif\u001b[0m \u001b[0;36m0\u001b[0m \u001b[0;34m<\u001b[0m \u001b[0mword_count\u001b[0m \u001b[0;34m<\u001b[0m \u001b[0mself\u001b[0m\u001b[0;34m.\u001b[0m\u001b[0mstate_size\u001b[0m\u001b[0;34m:\u001b[0m\u001b[0;34m\u001b[0m\n",
       "\u001b[0;34m\u001b[0m            \u001b[0;32mif\u001b[0m \u001b[0mstrict\u001b[0m\u001b[0;34m:\u001b[0m\u001b[0;34m\u001b[0m\n",
       "\u001b[0;34m\u001b[0m                \u001b[0minit_states\u001b[0m \u001b[0;34m=\u001b[0m \u001b[0;34m[\u001b[0m\u001b[0;34m(\u001b[0m\u001b[0mBEGIN\u001b[0m\u001b[0;34m,\u001b[0m\u001b[0;34m)\u001b[0m \u001b[0;34m*\u001b[0m \u001b[0;34m(\u001b[0m\u001b[0mself\u001b[0m\u001b[0;34m.\u001b[0m\u001b[0mstate_size\u001b[0m \u001b[0;34m-\u001b[0m \u001b[0mword_count\u001b[0m\u001b[0;34m)\u001b[0m \u001b[0;34m+\u001b[0m \u001b[0msplit\u001b[0m\u001b[0;34m]\u001b[0m\u001b[0;34m\u001b[0m\n",
       "\u001b[0;34m\u001b[0m\u001b[0;34m\u001b[0m\n",
       "\u001b[0;34m\u001b[0m            \u001b[0;32melse\u001b[0m\u001b[0;34m:\u001b[0m\u001b[0;34m\u001b[0m\n",
       "\u001b[0;34m\u001b[0m                \u001b[0minit_states\u001b[0m \u001b[0;34m=\u001b[0m \u001b[0;34m[\u001b[0m\u001b[0;34m\u001b[0m\n",
       "\u001b[0;34m\u001b[0m                    \u001b[0mkey\u001b[0m\u001b[0;34m\u001b[0m\n",
       "\u001b[0;34m\u001b[0m                    \u001b[0;32mfor\u001b[0m \u001b[0mkey\u001b[0m \u001b[0;32min\u001b[0m \u001b[0mself\u001b[0m\u001b[0;34m.\u001b[0m\u001b[0mchain\u001b[0m\u001b[0;34m.\u001b[0m\u001b[0mmodel\u001b[0m\u001b[0;34m.\u001b[0m\u001b[0mkeys\u001b[0m\u001b[0;34m(\u001b[0m\u001b[0;34m)\u001b[0m\u001b[0;34m\u001b[0m\n",
       "\u001b[0;34m\u001b[0m                    \u001b[0;31m# check for starting with begin as well ordered lists\u001b[0m\u001b[0;34m\u001b[0m\n",
       "\u001b[0;34m\u001b[0m                    \u001b[0;32mif\u001b[0m \u001b[0mtuple\u001b[0m\u001b[0;34m(\u001b[0m\u001b[0mfilter\u001b[0m\u001b[0;34m(\u001b[0m\u001b[0;32mlambda\u001b[0m \u001b[0mx\u001b[0m\u001b[0;34m:\u001b[0m \u001b[0mx\u001b[0m \u001b[0;34m!=\u001b[0m \u001b[0mBEGIN\u001b[0m\u001b[0;34m,\u001b[0m \u001b[0mkey\u001b[0m\u001b[0;34m)\u001b[0m\u001b[0;34m)\u001b[0m\u001b[0;34m[\u001b[0m\u001b[0;34m:\u001b[0m\u001b[0mword_count\u001b[0m\u001b[0;34m]\u001b[0m \u001b[0;34m==\u001b[0m \u001b[0msplit\u001b[0m\u001b[0;34m\u001b[0m\n",
       "\u001b[0;34m\u001b[0m                \u001b[0;34m]\u001b[0m\u001b[0;34m\u001b[0m\n",
       "\u001b[0;34m\u001b[0m\u001b[0;34m\u001b[0m\n",
       "\u001b[0;34m\u001b[0m                \u001b[0mrandom\u001b[0m\u001b[0;34m.\u001b[0m\u001b[0mshuffle\u001b[0m\u001b[0;34m(\u001b[0m\u001b[0minit_states\u001b[0m\u001b[0;34m)\u001b[0m\u001b[0;34m\u001b[0m\n",
       "\u001b[0;34m\u001b[0m        \u001b[0;32melse\u001b[0m\u001b[0;34m:\u001b[0m\u001b[0;34m\u001b[0m\n",
       "\u001b[0;34m\u001b[0m            \u001b[0merr_msg\u001b[0m \u001b[0;34m=\u001b[0m \u001b[0;34m(\u001b[0m\u001b[0;34m\u001b[0m\n",
       "\u001b[0;34m\u001b[0m                \u001b[0;34mf\"`make_sentence_with_start` for this model requires a string \"\u001b[0m\u001b[0;34m\u001b[0m\n",
       "\u001b[0;34m\u001b[0m                \u001b[0;34mf\"containing 1 to {self.state_size} words. \"\u001b[0m\u001b[0;34m\u001b[0m\n",
       "\u001b[0;34m\u001b[0m                \u001b[0;34mf\"Yours has {word_count}: {str(split)}\"\u001b[0m\u001b[0;34m\u001b[0m\n",
       "\u001b[0;34m\u001b[0m            \u001b[0;34m)\u001b[0m\u001b[0;34m\u001b[0m\n",
       "\u001b[0;34m\u001b[0m            \u001b[0;32mraise\u001b[0m \u001b[0mParamError\u001b[0m\u001b[0;34m(\u001b[0m\u001b[0merr_msg\u001b[0m\u001b[0;34m)\u001b[0m\u001b[0;34m\u001b[0m\n",
       "\u001b[0;34m\u001b[0m\u001b[0;34m\u001b[0m\n",
       "\u001b[0;34m\u001b[0m        \u001b[0;32mfor\u001b[0m \u001b[0minit_state\u001b[0m \u001b[0;32min\u001b[0m \u001b[0minit_states\u001b[0m\u001b[0;34m:\u001b[0m\u001b[0;34m\u001b[0m\n",
       "\u001b[0;34m\u001b[0m            \u001b[0moutput\u001b[0m \u001b[0;34m=\u001b[0m \u001b[0mself\u001b[0m\u001b[0;34m.\u001b[0m\u001b[0mmake_sentence\u001b[0m\u001b[0;34m(\u001b[0m\u001b[0minit_state\u001b[0m\u001b[0;34m,\u001b[0m \u001b[0;34m**\u001b[0m\u001b[0mkwargs\u001b[0m\u001b[0;34m)\u001b[0m\u001b[0;34m\u001b[0m\n",
       "\u001b[0;34m\u001b[0m            \u001b[0;32mif\u001b[0m \u001b[0moutput\u001b[0m \u001b[0;32mis\u001b[0m \u001b[0;32mnot\u001b[0m \u001b[0;32mNone\u001b[0m\u001b[0;34m:\u001b[0m\u001b[0;34m\u001b[0m\n",
       "\u001b[0;34m\u001b[0m                \u001b[0;32mreturn\u001b[0m \u001b[0moutput\u001b[0m\u001b[0;34m\u001b[0m\n",
       "\u001b[0;34m\u001b[0m        \u001b[0merr_msg\u001b[0m \u001b[0;34m=\u001b[0m \u001b[0;34m(\u001b[0m\u001b[0;34m\u001b[0m\n",
       "\u001b[0;34m\u001b[0m            \u001b[0;34mf\"`make_sentence_with_start` can't find sentence beginning with {beginning}\"\u001b[0m\u001b[0;34m\u001b[0m\n",
       "\u001b[0;34m\u001b[0m        \u001b[0;34m)\u001b[0m\u001b[0;34m\u001b[0m\n",
       "\u001b[0;34m\u001b[0m        \u001b[0;32mraise\u001b[0m \u001b[0mParamError\u001b[0m\u001b[0;34m(\u001b[0m\u001b[0merr_msg\u001b[0m\u001b[0;34m)\u001b[0m\u001b[0;34m\u001b[0m\u001b[0;34m\u001b[0m\u001b[0m\n",
       "\u001b[0;31mFile:\u001b[0m      ~/conda/lib/python3.9/site-packages/markovify/text.py\n",
       "\u001b[0;31mType:\u001b[0m      method\n"
      ]
     },
     "metadata": {},
     "output_type": "display_data"
    }
   ],
   "source": [
    "model.make_sentence_with_start??"
   ]
  },
  {
   "cell_type": "code",
   "execution_count": 92,
   "id": "626dc8f2-65e4-4606-9f9b-4b657f087412",
   "metadata": {},
   "outputs": [
    {
     "data": {
      "text/plain": [
       "\u001b[0;31mSignature:\u001b[0m \u001b[0mm\u001b[0m\u001b[0;34m.\u001b[0m\u001b[0mmake_sentence\u001b[0m\u001b[0;34m(\u001b[0m\u001b[0minit_state\u001b[0m\u001b[0;34m=\u001b[0m\u001b[0;32mNone\u001b[0m\u001b[0;34m,\u001b[0m \u001b[0;34m**\u001b[0m\u001b[0mkwargs\u001b[0m\u001b[0;34m)\u001b[0m\u001b[0;34m\u001b[0m\u001b[0;34m\u001b[0m\u001b[0m\n",
       "\u001b[0;31mDocstring:\u001b[0m\n",
       "Attempts `tries` (default: 10) times to generate a valid sentence,\n",
       "based on the model and `test_sentence_output`. Passes `max_overlap_ratio`\n",
       "and `max_overlap_total` to `test_sentence_output`.\n",
       "\n",
       "If successful, returns the sentence as a string. If not, returns None.\n",
       "\n",
       "If `init_state` (a tuple of `self.chain.state_size` words) is not specified,\n",
       "this method chooses a sentence-start at random, in accordance with\n",
       "the model.\n",
       "\n",
       "If `test_output` is set as False then the `test_sentence_output` check\n",
       "will be skipped.\n",
       "\n",
       "If `max_words` or `min_words` are specified, the word count for the\n",
       "sentence will be evaluated against the provided limit(s).\n",
       "\u001b[0;31mFile:\u001b[0m      ~/conda/lib/python3.9/site-packages/markovify/text.py\n",
       "\u001b[0;31mType:\u001b[0m      method\n"
      ]
     },
     "metadata": {},
     "output_type": "display_data"
    }
   ],
   "source": [
    "m = models[3]\n",
    "m.make_sentence?"
   ]
  },
  {
   "cell_type": "code",
   "execution_count": 99,
   "id": "545f0c8a-3f51-45f7-9b5d-9c4697a4bc64",
   "metadata": {},
   "outputs": [
    {
     "data": {
      "text/plain": [
       "' Have you ever seen a ... like a butterfly that has emerged from its cocoon?'"
      ]
     },
     "execution_count": 99,
     "metadata": {},
     "output_type": "execute_result"
    }
   ],
   "source": [
    "models[3].make_sentence((\"Have\", \"you\", \"ever\"), test_output=False)"
   ]
  },
  {
   "cell_type": "code",
   "execution_count": 81,
   "id": "9304142f-6372-4c5a-a20d-ef59149ae40b",
   "metadata": {},
   "outputs": [
    {
     "name": "stdout",
     "output_type": "stream",
     "text": [
      "2 Have you\n",
      "2  Have you ever seen Turbo Teen? It defines everything!\n",
      "3 Have you ever\n",
      "`make_sentence_with_start` can't find sentence beginning with Have you ever\n",
      "4 Have you ever\n",
      "`make_sentence_with_start` can't find sentence beginning with Have you ever\n",
      "5 Have you ever\n",
      "`make_sentence_with_start` can't find sentence beginning with Have you ever\n",
      "\n",
      "2 Have you\n",
      "2  Have you ever had a cowcatcher - type attachment for this occurrence. I mean, * we're gonna start? She's very confused.\n",
      "3 Have you ever\n",
      "3  Have you ever, let's see ... I think it's called ... Crenellations? The Castle Hat.\n",
      "4 Have you ever\n",
      "`make_sentence_with_start` can't find sentence beginning with Have you ever\n",
      "5 Have you ever\n",
      "`make_sentence_with_start` can't find sentence beginning with Have you ever\n",
      "\n",
      "2 Have you\n",
      "2  Have you ever seen ... crabs?   # dnd # cteam # acqinc # dnd # cteam # acqinc # dnd # cteam\n",
      "3 Have you ever\n",
      "3  Have you ever played with a gyroscope? And, like, a gear — and gears don't have.\n",
      "4 Have you ever\n",
      "`make_sentence_with_start` can't find sentence beginning with Have you ever\n",
      "5 Have you ever\n",
      "`make_sentence_with_start` can't find sentence beginning with Have you ever\n",
      "\n",
      "2 Have you\n",
      "2  Have you ever seen Turbo Teen? It's like a cat give you a hug?\n",
      "3 Have you ever\n",
      "`make_sentence_with_start` can't find sentence beginning with Have you ever\n",
      "4 Have you ever\n",
      "`make_sentence_with_start` can't find sentence beginning with Have you ever\n",
      "5 Have you ever\n",
      "`make_sentence_with_start` can't find sentence beginning with Have you ever\n",
      "\n",
      "2 Have you\n",
      "2  Have you ever had a cat — it's like when you introduce * the sun and fish are flying everywhere.\n",
      "3 Have you ever\n",
      "3  Have you ever played with a gyroscope? And, like, a gear — and gears don't have them.\n",
      "4 Have you ever\n",
      "`make_sentence_with_start` can't find sentence beginning with Have you ever\n",
      "5 Have you ever\n",
      "`make_sentence_with_start` can't find sentence beginning with Have you ever\n",
      "\n"
     ]
    }
   ],
   "source": [
    "for i in range(5):\n",
    "    for size, model in models.items():\n",
    "        start = \" \".join(\"Have you ever\".split()[:size])\n",
    "        # if size < 2:\n",
    "        #     continue\n",
    "        try:\n",
    "            print(size, start)\n",
    "            print(size, model.make_sentence_with_start(start))\n",
    "        except Exception as e:\n",
    "            print(e)\n",
    "    print(\"\")"
   ]
  },
  {
   "cell_type": "code",
   "execution_count": 79,
   "id": "56dd472c-d662-4acd-b3bb-915a0eb54aa8",
   "metadata": {},
   "outputs": [
    {
     "data": {
      "text/plain": [
       "{',': 1,\n",
       " 'had': 6,\n",
       " 'been': 4,\n",
       " 'seen': 11,\n",
       " 'done': 1,\n",
       " 'cracked': 1,\n",
       " 'played': 2,\n",
       " 'smelled': 1,\n",
       " 'tried': 1}"
      ]
     },
     "execution_count": 79,
     "metadata": {},
     "output_type": "execute_result"
    }
   ],
   "source": [
    "models[3].chain.model[('Have', 'you', 'ever')]"
   ]
  },
  {
   "cell_type": "code",
   "execution_count": null,
   "id": "280eaa6f-463c-42e6-8bfd-6b3e13373386",
   "metadata": {},
   "outputs": [],
   "source": []
  }
 ],
 "metadata": {
  "kernelspec": {
   "display_name": "Python 3 (ipykernel)",
   "language": "python",
   "name": "python3"
  },
  "language_info": {
   "codemirror_mode": {
    "name": "ipython",
    "version": 3
   },
   "file_extension": ".py",
   "mimetype": "text/x-python",
   "name": "python",
   "nbconvert_exporter": "python",
   "pygments_lexer": "ipython3",
   "version": "3.9.10"
  },
  "widgets": {
   "application/vnd.jupyter.widget-state+json": {
    "state": {},
    "version_major": 2,
    "version_minor": 0
   }
  }
 },
 "nbformat": 4,
 "nbformat_minor": 5
}
