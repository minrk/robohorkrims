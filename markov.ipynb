{
 "cells": [
  {
   "cell_type": "markdown",
   "id": "20cf7eaa-12ab-4f15-b7f9-3a50bb6c0f78",
   "metadata": {},
   "source": [
    "# Generating tweets with a markov chain\n",
    "\n",
    "Using:\n",
    "\n",
    "- spacy for tokenization\n",
    "- markovify for markov chain\n",
    "\n",
    "Characteristics:\n",
    "\n",
    "- Markov chain means all words come from the corpus,\n",
    "  and I _believe_ at least all 2-grams (consecutive pairs of words)\n",
    "  all occur in the text.\n",
    "- This also means variety is severely limited by the corpus."
   ]
  },
  {
   "cell_type": "code",
   "execution_count": 17,
   "id": "e2764ec6-d1b5-4d85-8796-d9cd345dc79e",
   "metadata": {},
   "outputs": [],
   "source": [
    "from itertools import chain\n",
    "\n",
    "\n",
    "import markovify\n",
    "import re\n",
    "import spacy\n",
    "\n",
    "with open(\"tweet-corpus.txt\") as f:\n",
    "    text = f.read()\n",
    "\n",
    "nlp = spacy.load(\"en_core_web_sm\")"
   ]
  },
  {
   "cell_type": "code",
   "execution_count": 20,
   "id": "4624c1e3-6fb5-4d73-85a1-816b426ef4bc",
   "metadata": {},
   "outputs": [],
   "source": [
    "START = \"HORKRIMS \"\n",
    "END = \"ENDHORKRIMS\\n\\n\""
   ]
  },
  {
   "cell_type": "code",
   "execution_count": 23,
   "id": "12591f09-42aa-49ce-963b-d3cd67c6d22c",
   "metadata": {},
   "outputs": [],
   "source": [
    "class TweetText(markovify.Text):\n",
    "    def word_split(self, sentence):\n",
    "        return list(\n",
    "            chain.from_iterable(\n",
    "                (word.orth_, word.whitespace_) for word in nlp(sentence)\n",
    "            )\n",
    "        )\n",
    "\n",
    "    def word_join(self, words):\n",
    "        return \"\".join(words)\n",
    "\n",
    "    def sentence_split(self, text):\n",
    "        return [s.replace(START, \"\") for s in text.split(END)]\n",
    "\n",
    "\n",
    "models = {\n",
    "    size: TweetText(text, state_size=size)\n",
    "    for size in range(2, 6)\n",
    "}"
   ]
  },
  {
   "cell_type": "code",
   "execution_count": 24,
   "id": "0b6a4acd-3e70-4c69-a3f2-15b7255f95ca",
   "metadata": {},
   "outputs": [
    {
     "name": "stdout",
     "output_type": "stream",
     "text": [
      "2 you not good reason - at Thanksgiving, parts of this. It's sad.\n",
      "3 the whole body image — that? The old motherfuckers on a sexually transmitted infection\n",
      "4 You start to hear a sort of inverse pet continuum\n",
      "5 I will do as you've found something that looks like a tentacle\n",
      "\n",
      "2 like people at best thought of begins to these motherfuckers on him the sort of the back on this whole belly all* gift shop.\n",
      "3 I should have business that you don't know what I had a smile this gaze\n",
      "4 Lo and behold, it's just *ehhhh* over the whole affair\n",
      "5 your words of direction and comfort to this *dangerous* mother\n",
      "\n",
      "2 It's wearing a natural phenomenon.\n",
      "3 Oh, where you think that her densely knotted vine substructure is a person's like doctor shopping, which must just starts out of begins to be.\n",
      "4 It was like Creatine. We've had pouches — it's a combination of a dragon scale cape — imagine a *big sheet*\n",
      "5 At maximum volume, you want to protecc!*\n",
      "\n",
      "2 we're revealing skin is free to do come off? It may be eight or something that's like he has been dumb and throb\n",
      "3 sort of starving red eyes\n",
      "4 Occasionally, a gear — and you make a snake puppet.\n",
      "5 I will do as you've invented?\n",
      "\n",
      "2 Let's that it's squeezed.\n",
      "3 The two points, voice for a lot of acres of a light glint on the murky mouth and out with enthusiasm... what it detests existence itself has made of the most evil sorcerers, the experience for some kind as if you are not as a stasis until there is a dark PEZ dispenser\n",
      "4 It's like how a person's mind\n",
      "5 you commit fully to these fried chalupa monstrosities\n",
      "\n"
     ]
    }
   ],
   "source": [
    "for i in range(5):\n",
    "    for size, model in models.items():\n",
    "        print(size, model.make_short_sentence(280))\n",
    "    print(\"\")"
   ]
  },
  {
   "cell_type": "code",
   "execution_count": null,
   "id": "9304142f-6372-4c5a-a20d-ef59149ae40b",
   "metadata": {},
   "outputs": [],
   "source": []
  }
 ],
 "metadata": {
  "kernelspec": {
   "display_name": "Python 3 (ipykernel)",
   "language": "python",
   "name": "python3"
  },
  "language_info": {
   "codemirror_mode": {
    "name": "ipython",
    "version": 3
   },
   "file_extension": ".py",
   "mimetype": "text/x-python",
   "name": "python",
   "nbconvert_exporter": "python",
   "pygments_lexer": "ipython3",
   "version": "3.9.10"
  },
  "widgets": {
   "application/vnd.jupyter.widget-state+json": {
    "state": {},
    "version_major": 2,
    "version_minor": 0
   }
  }
 },
 "nbformat": 4,
 "nbformat_minor": 5
}
